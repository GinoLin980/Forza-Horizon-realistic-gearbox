{
 "cells": [
  {
   "cell_type": "code",
   "execution_count": 1,
   "metadata": {},
   "outputs": [],
   "source": [
    "from torch import nn\n",
    "import torch\n",
    "from sklearn.model_selection import train_test_split\n",
    "import pandas as pd"
   ]
  },
  {
   "cell_type": "code",
   "execution_count": 22,
   "metadata": {},
   "outputs": [],
   "source": [
    "device = 'mps' if torch.backends.mps.is_available() else 'cpu'"
   ]
  },
  {
   "cell_type": "code",
   "execution_count": null,
   "metadata": {},
   "outputs": [],
   "source": [
    "device = 'cuda' if torch.cuda.is_available() else 'cpu'"
   ]
  },
  {
   "cell_type": "code",
   "execution_count": 2,
   "metadata": {},
   "outputs": [
    {
     "data": {
      "text/plain": [
       "Index(['rpm/max', 'gas', 'brake', 'in_first_gear', 'in_overdrive',\n",
       "       'shift_status', 'jump_gears'],\n",
       "      dtype='object')"
      ]
     },
     "execution_count": 2,
     "metadata": {},
     "output_type": "execute_result"
    }
   ],
   "source": [
    "# rpm should be (rpm - idle_rpm)/ max_shift_rpm in order to fit different cars\n",
    "# must include data when up/down shift to collect more shift data\n",
    "idle_rpm = 1100\n",
    "df = pd.DataFrame({'rpm/max': [], 'gas': [], 'brake': [], 'in_first_gear': [], 'in_overdrive': [], 'shift_status': [], 'jump_gears': []})\n",
    "df.to_csv('data/Normal/data.csv', index=False)\n",
    "df.columns"
   ]
  },
  {
   "cell_type": "code",
   "execution_count": null,
   "metadata": {},
   "outputs": [],
   "source": [
    "from pathlib import Path\n",
    "def csv_update(gas: list, brake: list, rpm_max: list, gear: list, shift_status: list, jump_gears: list, mode: str):\n",
    "    PATH = Path(f'data/{mode}')\n",
    "    PATH.mkdir(parents=True, exist_ok=True)\n",
    "    # Create the CSV file if it doesn't exist\n",
    "    PATH = Path(f'data/{mode}/data.csv')\n",
    "    if not PATH.is_file():\n",
    "        df = pd.DataFrame({'rpm/max': [], 'gas': [], 'brake': [], 'in_first_gear': [], 'in_overdrive': [], 'shift_status': [], 'jump_gears': []})\n",
    "        df.to_csv(f'data/{mode}/data.csv', index=False)\n",
    "    new_row = pd.DataFrame({'rpm/max': rpm_max, 'gas': gas, 'brake': brake, 'gear': gear, 'shift_status': shift_status, 'jump_gears': jump_gears})\n",
    "\n",
    "    # Append the row to the CSV file\n",
    "    new_row.to_csv(f'data/{mode}/data.csv', index=False, mode='a', header=False)"
   ]
  },
  {
   "cell_type": "markdown",
   "metadata": {},
   "source": [
    "---"
   ]
  },
  {
   "cell_type": "code",
   "execution_count": 23,
   "metadata": {},
   "outputs": [
    {
     "data": {
      "text/html": [
       "<div>\n",
       "<style scoped>\n",
       "    .dataframe tbody tr th:only-of-type {\n",
       "        vertical-align: middle;\n",
       "    }\n",
       "\n",
       "    .dataframe tbody tr th {\n",
       "        vertical-align: top;\n",
       "    }\n",
       "\n",
       "    .dataframe thead th {\n",
       "        text-align: right;\n",
       "    }\n",
       "</style>\n",
       "<table border=\"1\" class=\"dataframe\">\n",
       "  <thead>\n",
       "    <tr style=\"text-align: right;\">\n",
       "      <th></th>\n",
       "      <th>rpm/max</th>\n",
       "      <th>gas</th>\n",
       "      <th>brake</th>\n",
       "      <th>in_first_gear</th>\n",
       "      <th>in_overdrive</th>\n",
       "      <th>shift_status</th>\n",
       "      <th>jump_gears</th>\n",
       "    </tr>\n",
       "  </thead>\n",
       "  <tbody>\n",
       "    <tr>\n",
       "      <th>0</th>\n",
       "      <td>0.034120</td>\n",
       "      <td>0.070588</td>\n",
       "      <td>0.0</td>\n",
       "      <td>1.0</td>\n",
       "      <td>0</td>\n",
       "      <td>1.0</td>\n",
       "      <td>0</td>\n",
       "    </tr>\n",
       "    <tr>\n",
       "      <th>1</th>\n",
       "      <td>0.083415</td>\n",
       "      <td>0.054902</td>\n",
       "      <td>0.0</td>\n",
       "      <td>1.0</td>\n",
       "      <td>0</td>\n",
       "      <td>1.0</td>\n",
       "      <td>0</td>\n",
       "    </tr>\n",
       "    <tr>\n",
       "      <th>2</th>\n",
       "      <td>0.102371</td>\n",
       "      <td>0.050980</td>\n",
       "      <td>0.0</td>\n",
       "      <td>1.0</td>\n",
       "      <td>0</td>\n",
       "      <td>1.0</td>\n",
       "      <td>0</td>\n",
       "    </tr>\n",
       "    <tr>\n",
       "      <th>3</th>\n",
       "      <td>0.125583</td>\n",
       "      <td>0.086275</td>\n",
       "      <td>0.0</td>\n",
       "      <td>1.0</td>\n",
       "      <td>0</td>\n",
       "      <td>1.0</td>\n",
       "      <td>0</td>\n",
       "    </tr>\n",
       "    <tr>\n",
       "      <th>4</th>\n",
       "      <td>0.138657</td>\n",
       "      <td>0.121569</td>\n",
       "      <td>0.0</td>\n",
       "      <td>1.0</td>\n",
       "      <td>0</td>\n",
       "      <td>1.0</td>\n",
       "      <td>0</td>\n",
       "    </tr>\n",
       "    <tr>\n",
       "      <th>...</th>\n",
       "      <td>...</td>\n",
       "      <td>...</td>\n",
       "      <td>...</td>\n",
       "      <td>...</td>\n",
       "      <td>...</td>\n",
       "      <td>...</td>\n",
       "      <td>...</td>\n",
       "    </tr>\n",
       "    <tr>\n",
       "      <th>3496</th>\n",
       "      <td>0.188790</td>\n",
       "      <td>0.823884</td>\n",
       "      <td>0.0</td>\n",
       "      <td>0.0</td>\n",
       "      <td>1</td>\n",
       "      <td>0.0</td>\n",
       "      <td>1</td>\n",
       "    </tr>\n",
       "    <tr>\n",
       "      <th>3497</th>\n",
       "      <td>0.217789</td>\n",
       "      <td>0.782949</td>\n",
       "      <td>0.0</td>\n",
       "      <td>0.0</td>\n",
       "      <td>1</td>\n",
       "      <td>0.0</td>\n",
       "      <td>1</td>\n",
       "    </tr>\n",
       "    <tr>\n",
       "      <th>3498</th>\n",
       "      <td>0.365227</td>\n",
       "      <td>0.861438</td>\n",
       "      <td>0.0</td>\n",
       "      <td>0.0</td>\n",
       "      <td>1</td>\n",
       "      <td>0.0</td>\n",
       "      <td>1</td>\n",
       "    </tr>\n",
       "    <tr>\n",
       "      <th>3499</th>\n",
       "      <td>0.342704</td>\n",
       "      <td>0.798636</td>\n",
       "      <td>0.0</td>\n",
       "      <td>0.0</td>\n",
       "      <td>1</td>\n",
       "      <td>0.0</td>\n",
       "      <td>1</td>\n",
       "    </tr>\n",
       "    <tr>\n",
       "      <th>3500</th>\n",
       "      <td>0.226314</td>\n",
       "      <td>0.834541</td>\n",
       "      <td>0.0</td>\n",
       "      <td>0.0</td>\n",
       "      <td>1</td>\n",
       "      <td>0.0</td>\n",
       "      <td>1</td>\n",
       "    </tr>\n",
       "  </tbody>\n",
       "</table>\n",
       "<p>3501 rows × 7 columns</p>\n",
       "</div>"
      ],
      "text/plain": [
       "       rpm/max       gas  brake  in_first_gear  in_overdrive  shift_status  \\\n",
       "0     0.034120  0.070588    0.0            1.0             0           1.0   \n",
       "1     0.083415  0.054902    0.0            1.0             0           1.0   \n",
       "2     0.102371  0.050980    0.0            1.0             0           1.0   \n",
       "3     0.125583  0.086275    0.0            1.0             0           1.0   \n",
       "4     0.138657  0.121569    0.0            1.0             0           1.0   \n",
       "...        ...       ...    ...            ...           ...           ...   \n",
       "3496  0.188790  0.823884    0.0            0.0             1           0.0   \n",
       "3497  0.217789  0.782949    0.0            0.0             1           0.0   \n",
       "3498  0.365227  0.861438    0.0            0.0             1           0.0   \n",
       "3499  0.342704  0.798636    0.0            0.0             1           0.0   \n",
       "3500  0.226314  0.834541    0.0            0.0             1           0.0   \n",
       "\n",
       "      jump_gears  \n",
       "0              0  \n",
       "1              0  \n",
       "2              0  \n",
       "3              0  \n",
       "4              0  \n",
       "...          ...  \n",
       "3496           1  \n",
       "3497           1  \n",
       "3498           1  \n",
       "3499           1  \n",
       "3500           1  \n",
       "\n",
       "[3501 rows x 7 columns]"
      ]
     },
     "execution_count": 23,
     "metadata": {},
     "output_type": "execute_result"
    }
   ],
   "source": [
    "df = pd.read_csv('data/Normal/data.csv')\n",
    "df"
   ]
  },
  {
   "cell_type": "code",
   "execution_count": null,
   "metadata": {},
   "outputs": [],
   "source": [
    "# df.loc[df['jump_gears'] == 1 , 'shift_status'] = 0\n",
    "df.loc[df['jump_gears'] == 1]\n",
    "df['shift_status'] = df['shift_status'].shift(-1)\n",
    "df.loc[df['shift_status'] == 0]"
   ]
  },
  {
   "cell_type": "code",
   "execution_count": 44,
   "metadata": {},
   "outputs": [
    {
     "data": {
      "text/plain": [
       "(0.1500568424524147, 0.3665316139223593, 0.7500438356271927, 1.0)"
      ]
     },
     "execution_count": 44,
     "metadata": {},
     "output_type": "execute_result"
    }
   ],
   "source": [
    "jumped = df.loc[df['jump_gears'] == 1]\n",
    "jumped['rpm/max'].min(), jumped['rpm/max'].max(), jumped['gas'].min(), jumped['gas'].max()"
   ]
  },
  {
   "cell_type": "code",
   "execution_count": null,
   "metadata": {},
   "outputs": [],
   "source": []
  },
  {
   "cell_type": "code",
   "execution_count": 3,
   "metadata": {},
   "outputs": [
    {
     "ename": "NameError",
     "evalue": "name 'jumped' is not defined",
     "output_type": "error",
     "traceback": [
      "\u001b[1;31m---------------------------------------------------------------------------\u001b[0m",
      "\u001b[1;31mNameError\u001b[0m                                 Traceback (most recent call last)",
      "Cell \u001b[1;32mIn[3], line 10\u001b[0m\n\u001b[0;32m      8\u001b[0m shift_status \u001b[38;5;241m=\u001b[39m \u001b[38;5;241m0.0\u001b[39m\n\u001b[0;32m      9\u001b[0m jump_gears \u001b[38;5;241m=\u001b[39m \u001b[38;5;241m1\u001b[39m\n\u001b[1;32m---> 10\u001b[0m new_jump \u001b[38;5;241m=\u001b[39m pd\u001b[38;5;241m.\u001b[39mDataFrame([[rpm_max, gas, brake, in_first_gear, in_overdrive, shift_status, jump_gears]], columns\u001b[38;5;241m=\u001b[39m\u001b[43mjumped\u001b[49m\u001b[38;5;241m.\u001b[39mcolumns)\n\u001b[0;32m     11\u001b[0m new_jump\u001b[38;5;241m.\u001b[39mto_csv(\u001b[38;5;124m'\u001b[39m\u001b[38;5;124mdata/Normal/jump.csv\u001b[39m\u001b[38;5;124m'\u001b[39m, mode\u001b[38;5;241m=\u001b[39m\u001b[38;5;124m'\u001b[39m\u001b[38;5;124ma\u001b[39m\u001b[38;5;124m'\u001b[39m, header\u001b[38;5;241m=\u001b[39m\u001b[38;5;28;01mFalse\u001b[39;00m, index\u001b[38;5;241m=\u001b[39m\u001b[38;5;28;01mFalse\u001b[39;00m)\n",
      "\u001b[1;31mNameError\u001b[0m: name 'jumped' is not defined"
     ]
    }
   ],
   "source": [
    "import random\n",
    "for i in range(600):\n",
    "    rpm_max = random.uniform(0.15, 0.365316)\n",
    "    gas = random.uniform(0.75, 1.0)\n",
    "    brake = 0.0\n",
    "    in_first_gear = 0.0\n",
    "    in_overdrive = 1\n",
    "    shift_status = 0.0\n",
    "    jump_gears = 1\n",
    "    new_jump = pd.DataFrame([[rpm_max, gas, brake, in_first_gear, in_overdrive, shift_status, jump_gears]], columns=jumped.columns)\n",
    "    new_jump.to_csv('data/Normal/jump.csv', mode='a', header=False, index=False)\n",
    "    "
   ]
  },
  {
   "cell_type": "code",
   "execution_count": 55,
   "metadata": {},
   "outputs": [],
   "source": [
    "df = pd.read_csv('data/Normal/data.csv')"
   ]
  },
  {
   "cell_type": "code",
   "execution_count": null,
   "metadata": {},
   "outputs": [],
   "source": [
    "df.loc[df['jump_gears'] == 1 , 'shift_status'] = 0\n",
    "df.loc[df['jump_gears'] == 1 , 'in_overdrive'] = 1\n",
    "# df.tail(30)\n",
    "df.loc[df['jump_gears'] == 1]"
   ]
  },
  {
   "cell_type": "code",
   "execution_count": null,
   "metadata": {},
   "outputs": [],
   "source": [
    "\n",
    "df.loc[df['jump_gears'] == 1]\n"
   ]
  },
  {
   "cell_type": "code",
   "execution_count": null,
   "metadata": {},
   "outputs": [],
   "source": [
    "df.info(), df.isna().sum()"
   ]
  },
  {
   "cell_type": "code",
   "execution_count": null,
   "metadata": {},
   "outputs": [],
   "source": [
    "df.tail"
   ]
  },
  {
   "cell_type": "code",
   "execution_count": null,
   "metadata": {},
   "outputs": [],
   "source": [
    "# df.to_csv('data/Normal/processed.csv', index=False)"
   ]
  },
  {
   "cell_type": "markdown",
   "metadata": {},
   "source": [
    "---"
   ]
  },
  {
   "cell_type": "markdown",
   "metadata": {},
   "source": [
    "## we use shift status as the label and add a jump gear feature ((1 - rpm/max_shift_rpm) / 2.5)"
   ]
  },
  {
   "cell_type": "code",
   "execution_count": null,
   "metadata": {},
   "outputs": [],
   "source": [
    "# df = pd.read_csv('data/Normal/processed.csv')"
   ]
  },
  {
   "cell_type": "code",
   "execution_count": null,
   "metadata": {},
   "outputs": [],
   "source": [
    "df"
   ]
  },
  {
   "cell_type": "code",
   "execution_count": 24,
   "metadata": {},
   "outputs": [],
   "source": [
    "features = df[['rpm/max', 'gas', 'brake', 'in_first_gear', 'in_overdrive']].values\n",
    "labels = df[['shift_status', 'jump_gears']].values"
   ]
  },
  {
   "cell_type": "code",
   "execution_count": 25,
   "metadata": {},
   "outputs": [
    {
     "data": {
      "text/plain": [
       "<Axes: >"
      ]
     },
     "execution_count": 25,
     "metadata": {},
     "output_type": "execute_result"
    },
    {
     "data": {
      "image/png": "[encoded data removed]",
      "text/plain": [
       "<Figure size 640x480 with 2 Axes>"
      ]
     },
     "metadata": {},
     "output_type": "display_data"
    }
   ],
   "source": [
    "import matplotlib.pyplot as plt\n",
    "import seaborn as sns\n",
    "sns.heatmap(df.corr(), linewidths=0.1,vmax=1.0, square=True, linecolor='white', annot=True)"
   ]
  },
  {
   "cell_type": "code",
   "execution_count": 26,
   "metadata": {},
   "outputs": [],
   "source": [
    "Xtrain, Xtest, yTrain, yTest = train_test_split(features, labels, shuffle=True, test_size=0.35)"
   ]
  },
  {
   "cell_type": "code",
   "execution_count": 27,
   "metadata": {},
   "outputs": [
    {
     "data": {
      "text/plain": [
       "array([0., 1., 0., ..., 0., 0., 0.])"
      ]
     },
     "execution_count": 27,
     "metadata": {},
     "output_type": "execute_result"
    }
   ],
   "source": [
    "yTrain[: , 0]"
   ]
  },
  {
   "cell_type": "markdown",
   "metadata": {},
   "source": [
    "## build model"
   ]
  },
  {
   "cell_type": "code",
   "execution_count": 28,
   "metadata": {},
   "outputs": [],
   "source": [
    "class Net(nn.Module):\n",
    "    def __init__(self):\n",
    "        super().__init__()\n",
    "        self.fc1 = nn.Linear(5, 128)\n",
    "        self.fc2 = nn.Linear(128, 128)\n",
    "        self.fc3 = nn.Linear(128, 128)\n",
    "        self.fc4 = nn.Linear(128, 128)\n",
    "        self.fc5 = nn.Linear(128, 3)  # Output layer for shift status\n",
    "        self.fc6 = nn.Linear(128, 1)  # Output layer for jump gears or not\n",
    "\n",
    "    def forward(self, x):\n",
    "        x = torch.relu(self.fc1(x))\n",
    "        x = torch.relu(self.fc2(x))\n",
    "        x = torch.relu(self.fc3(x))\n",
    "        x = torch.relu(self.fc4(x))\n",
    "        out1 = self.fc5(x)  # Predicts shift status\n",
    "        out2 = self.fc6(x)  # Predicts whether to jump gears or not\n",
    "        return out1, out2"
   ]
  },
  {
   "cell_type": "code",
   "execution_count": 29,
   "metadata": {},
   "outputs": [],
   "source": [
    "# Calculate accuracy (a classification metric)\n",
    "def accuracy_fn(y_true, y_pred):\n",
    "    correct = torch.eq(y_true, y_pred).sum().item() # torch.eq() calculates where two tensors are equal\n",
    "    acc = (correct / len(y_pred)) * 100 \n",
    "    return acc"
   ]
  },
  {
   "cell_type": "code",
   "execution_count": 30,
   "metadata": {},
   "outputs": [],
   "source": [
    "model = Net().to(device)\n",
    "criterion1 = nn.CrossEntropyLoss()  # For shift status\n",
    "criterion2 = nn.BCEWithLogitsLoss() # For jump gears\n",
    "optimizer = torch.optim.SGD(params=model.parameters(), lr=0.002)"
   ]
  },
  {
   "cell_type": "code",
   "execution_count": 31,
   "metadata": {},
   "outputs": [],
   "source": [
    "Xtrain = torch.from_numpy(Xtrain).to(torch.float).to(device)\n",
    "Xtest= torch.from_numpy(Xtest).to(torch.float).to(device)\n",
    "yTrain = torch.from_numpy(yTrain).to(torch.float).to(device)\n",
    "yTest= torch.from_numpy(yTest).to(torch.float).to(device)"
   ]
  },
  {
   "cell_type": "code",
   "execution_count": 32,
   "metadata": {},
   "outputs": [
    {
     "data": {
      "text/plain": [
       "tensor([[0.2894, 0.8556, 0.0000, 0.0000, 1.0000],\n",
       "        [0.1579, 0.2745, 0.0000, 0.0000, 0.0000],\n",
       "        [0.2732, 0.7842, 0.0000, 0.0000, 1.0000],\n",
       "        ...,\n",
       "        [0.3340, 0.8456, 0.0000, 0.0000, 1.0000],\n",
       "        [0.2497, 0.7957, 0.0000, 0.0000, 1.0000],\n",
       "        [0.2511, 0.8093, 0.0000, 0.0000, 1.0000]], device='mps:0')"
      ]
     },
     "execution_count": 32,
     "metadata": {},
     "output_type": "execute_result"
    }
   ],
   "source": [
    "Xtrain"
   ]
  },
  {
   "cell_type": "code",
   "execution_count": 33,
   "metadata": {},
   "outputs": [
    {
     "data": {
      "text/plain": [
       "(tensor([[0., 1.],\n",
       "         [1., 0.],\n",
       "         [0., 1.],\n",
       "         ...,\n",
       "         [0., 1.],\n",
       "         [0., 1.],\n",
       "         [0., 1.]], device='mps:0'),\n",
       " tensor([0., 1., 0.,  ..., 0., 0., 0.], device='mps:0'))"
      ]
     },
     "execution_count": 33,
     "metadata": {},
     "output_type": "execute_result"
    }
   ],
   "source": [
    "yTrain, yTrain[:, 0]"
   ]
  },
  {
   "cell_type": "code",
   "execution_count": 34,
   "metadata": {},
   "outputs": [
    {
     "data": {
      "text/plain": [
       "tensor([[0.2200, 0.8500, 0.0000, 0.0000, 1.0000]])"
      ]
     },
     "execution_count": 34,
     "metadata": {},
     "output_type": "execute_result"
    }
   ],
   "source": [
    "torch.Tensor([[0.22, 0.85, 0.0, 0.0, 1.0]])"
   ]
  },
  {
   "cell_type": "code",
   "execution_count": 35,
   "metadata": {},
   "outputs": [
    {
     "data": {
      "application/vnd.jupyter.widget-view+json": {
       "model_id": "fb06e94eb1b64c9fb767618450430216",
       "version_major": 2,
       "version_minor": 0
      },
      "text/plain": [
       "  0%|          | 0/2000 [00:00<?, ?it/s]"
      ]
     },
     "metadata": {},
     "output_type": "display_data"
    },
    {
     "name": "stdout",
     "output_type": "stream",
     "text": [
      "Epoch: 50\n",
      "Train shift loss: 1.0262 | Train jump loss: 0.6752 | Train shift acc: 71.82% | Train jump acc: 70.73%\n",
      "Test shift loss: 1.0223 | Test jump loss: 0.6730 | Test shift acc: 73.98% | Test jump acc: 73.16%\n",
      "Epoch: 100\n",
      "Train shift loss: 0.9952 | Train jump loss: 0.6688 | Train shift acc: 71.82% | Train jump acc: 70.73%\n",
      "Test shift loss: 0.9898 | Test jump loss: 0.6659 | Test shift acc: 73.98% | Test jump acc: 73.16%\n",
      "Epoch: 150\n",
      "Train shift loss: 0.9666 | Train jump loss: 0.6628 | Train shift acc: 71.82% | Train jump acc: 70.73%\n",
      "Test shift loss: 0.9596 | Test jump loss: 0.6592 | Test shift acc: 73.98% | Test jump acc: 73.16%\n",
      "Epoch: 200\n",
      "Train shift loss: 0.9403 | Train jump loss: 0.6572 | Train shift acc: 71.82% | Train jump acc: 70.73%\n",
      "Test shift loss: 0.9318 | Test jump loss: 0.6529 | Test shift acc: 73.98% | Test jump acc: 73.16%\n",
      "Epoch: 250\n",
      "Train shift loss: 0.9160 | Train jump loss: 0.6519 | Train shift acc: 71.82% | Train jump acc: 70.73%\n",
      "Test shift loss: 0.9062 | Test jump loss: 0.6469 | Test shift acc: 73.98% | Test jump acc: 73.16%\n",
      "Epoch: 300\n",
      "Train shift loss: 0.8935 | Train jump loss: 0.6467 | Train shift acc: 71.82% | Train jump acc: 70.73%\n",
      "Test shift loss: 0.8822 | Test jump loss: 0.6410 | Test shift acc: 73.98% | Test jump acc: 73.16%\n",
      "Epoch: 350\n",
      "Train shift loss: 0.8723 | Train jump loss: 0.6417 | Train shift acc: 71.82% | Train jump acc: 70.73%\n",
      "Test shift loss: 0.8597 | Test jump loss: 0.6353 | Test shift acc: 73.98% | Test jump acc: 73.16%\n",
      "Epoch: 400\n",
      "Train shift loss: 0.8525 | Train jump loss: 0.6369 | Train shift acc: 71.82% | Train jump acc: 70.73%\n",
      "Test shift loss: 0.8385 | Test jump loss: 0.6297 | Test shift acc: 73.98% | Test jump acc: 73.16%\n",
      "Epoch: 450\n",
      "Train shift loss: 0.8338 | Train jump loss: 0.6322 | Train shift acc: 71.82% | Train jump acc: 70.73%\n",
      "Test shift loss: 0.8185 | Test jump loss: 0.6243 | Test shift acc: 73.98% | Test jump acc: 73.16%\n",
      "Epoch: 500\n",
      "Train shift loss: 0.8162 | Train jump loss: 0.6276 | Train shift acc: 71.82% | Train jump acc: 70.73%\n",
      "Test shift loss: 0.7995 | Test jump loss: 0.6190 | Test shift acc: 73.98% | Test jump acc: 73.16%\n",
      "Epoch: 550\n",
      "Train shift loss: 0.7995 | Train jump loss: 0.6231 | Train shift acc: 71.82% | Train jump acc: 70.73%\n",
      "Test shift loss: 0.7815 | Test jump loss: 0.6138 | Test shift acc: 73.98% | Test jump acc: 73.16%\n",
      "Epoch: 600\n",
      "Train shift loss: 0.7838 | Train jump loss: 0.6186 | Train shift acc: 71.82% | Train jump acc: 70.73%\n",
      "Test shift loss: 0.7644 | Test jump loss: 0.6086 | Test shift acc: 73.98% | Test jump acc: 73.16%\n",
      "Epoch: 650\n",
      "Train shift loss: 0.7690 | Train jump loss: 0.6142 | Train shift acc: 71.82% | Train jump acc: 70.73%\n",
      "Test shift loss: 0.7483 | Test jump loss: 0.6034 | Test shift acc: 73.98% | Test jump acc: 73.16%\n",
      "Epoch: 700\n",
      "Train shift loss: 0.7551 | Train jump loss: 0.6099 | Train shift acc: 71.82% | Train jump acc: 70.73%\n",
      "Test shift loss: 0.7330 | Test jump loss: 0.5983 | Test shift acc: 73.98% | Test jump acc: 73.16%\n"
     ]
    },
    {
     "ename": "KeyboardInterrupt",
     "evalue": "",
     "output_type": "error",
     "traceback": [
      "\u001b[0;31m---------------------------------------------------------------------------\u001b[0m",
      "\u001b[0;31mKeyboardInterrupt\u001b[0m                         Traceback (most recent call last)",
      "Cell \u001b[0;32mIn[35], line 8\u001b[0m\n\u001b[1;32m      5\u001b[0m \u001b[38;5;28;01mfor\u001b[39;00m epoch \u001b[38;5;129;01min\u001b[39;00m tqdm(\u001b[38;5;28mrange\u001b[39m(\u001b[38;5;241m1\u001b[39m, epochs\u001b[38;5;241m+\u001b[39m\u001b[38;5;241m1\u001b[39m)):\n\u001b[1;32m      6\u001b[0m     model\u001b[38;5;241m.\u001b[39mtrain()\n\u001b[0;32m----> 8\u001b[0m     shift_logit, jump_logit \u001b[38;5;241m=\u001b[39m \u001b[43mmodel\u001b[49m\u001b[43m(\u001b[49m\u001b[43mXtrain\u001b[49m\u001b[43m)\u001b[49m\n\u001b[1;32m     10\u001b[0m     shift_prob \u001b[38;5;241m=\u001b[39m torch\u001b[38;5;241m.\u001b[39msoftmax(shift_logit, dim\u001b[38;5;241m=\u001b[39m\u001b[38;5;241m1\u001b[39m)\n\u001b[1;32m     11\u001b[0m     shift_pred \u001b[38;5;241m=\u001b[39m torch\u001b[38;5;241m.\u001b[39margmax(shift_prob, dim\u001b[38;5;241m=\u001b[39m\u001b[38;5;241m1\u001b[39m)\n",
      "File \u001b[0;32m/Library/Frameworks/Python.framework/Versions/3.12/lib/python3.12/site-packages/torch/nn/modules/module.py:1527\u001b[0m, in \u001b[0;36mModule._wrapped_call_impl\u001b[0;34m(self, *args, **kwargs)\u001b[0m\n\u001b[1;32m   1525\u001b[0m     \u001b[38;5;28;01mreturn\u001b[39;00m \u001b[38;5;28mself\u001b[39m\u001b[38;5;241m.\u001b[39m_compiled_call_impl(\u001b[38;5;241m*\u001b[39margs, \u001b[38;5;241m*\u001b[39m\u001b[38;5;241m*\u001b[39mkwargs)  \u001b[38;5;66;03m# type: ignore[misc]\u001b[39;00m\n\u001b[1;32m   1526\u001b[0m \u001b[38;5;28;01melse\u001b[39;00m:\n\u001b[0;32m-> 1527\u001b[0m     \u001b[38;5;28;01mreturn\u001b[39;00m \u001b[38;5;28;43mself\u001b[39;49m\u001b[38;5;241;43m.\u001b[39;49m\u001b[43m_call_impl\u001b[49m\u001b[43m(\u001b[49m\u001b[38;5;241;43m*\u001b[39;49m\u001b[43margs\u001b[49m\u001b[43m,\u001b[49m\u001b[43m \u001b[49m\u001b[38;5;241;43m*\u001b[39;49m\u001b[38;5;241;43m*\u001b[39;49m\u001b[43mkwargs\u001b[49m\u001b[43m)\u001b[49m\n",
      "File \u001b[0;32m/Library/Frameworks/Python.framework/Versions/3.12/lib/python3.12/site-packages/torch/nn/modules/module.py:1536\u001b[0m, in \u001b[0;36mModule._call_impl\u001b[0;34m(self, *args, **kwargs)\u001b[0m\n\u001b[1;32m   1531\u001b[0m \u001b[38;5;66;03m# If we don't have any hooks, we want to skip the rest of the logic in\u001b[39;00m\n\u001b[1;32m   1532\u001b[0m \u001b[38;5;66;03m# this function, and just call forward.\u001b[39;00m\n\u001b[1;32m   1533\u001b[0m \u001b[38;5;28;01mif\u001b[39;00m \u001b[38;5;129;01mnot\u001b[39;00m (\u001b[38;5;28mself\u001b[39m\u001b[38;5;241m.\u001b[39m_backward_hooks \u001b[38;5;129;01mor\u001b[39;00m \u001b[38;5;28mself\u001b[39m\u001b[38;5;241m.\u001b[39m_backward_pre_hooks \u001b[38;5;129;01mor\u001b[39;00m \u001b[38;5;28mself\u001b[39m\u001b[38;5;241m.\u001b[39m_forward_hooks \u001b[38;5;129;01mor\u001b[39;00m \u001b[38;5;28mself\u001b[39m\u001b[38;5;241m.\u001b[39m_forward_pre_hooks\n\u001b[1;32m   1534\u001b[0m         \u001b[38;5;129;01mor\u001b[39;00m _global_backward_pre_hooks \u001b[38;5;129;01mor\u001b[39;00m _global_backward_hooks\n\u001b[1;32m   1535\u001b[0m         \u001b[38;5;129;01mor\u001b[39;00m _global_forward_hooks \u001b[38;5;129;01mor\u001b[39;00m _global_forward_pre_hooks):\n\u001b[0;32m-> 1536\u001b[0m     \u001b[38;5;28;01mreturn\u001b[39;00m \u001b[43mforward_call\u001b[49m\u001b[43m(\u001b[49m\u001b[38;5;241;43m*\u001b[39;49m\u001b[43margs\u001b[49m\u001b[43m,\u001b[49m\u001b[43m \u001b[49m\u001b[38;5;241;43m*\u001b[39;49m\u001b[38;5;241;43m*\u001b[39;49m\u001b[43mkwargs\u001b[49m\u001b[43m)\u001b[49m\n\u001b[1;32m   1538\u001b[0m \u001b[38;5;28;01mtry\u001b[39;00m:\n\u001b[1;32m   1539\u001b[0m     result \u001b[38;5;241m=\u001b[39m \u001b[38;5;28;01mNone\u001b[39;00m\n",
      "Cell \u001b[0;32mIn[28], line 14\u001b[0m, in \u001b[0;36mNet.forward\u001b[0;34m(self, x)\u001b[0m\n\u001b[1;32m     12\u001b[0m x \u001b[38;5;241m=\u001b[39m torch\u001b[38;5;241m.\u001b[39mrelu(\u001b[38;5;28mself\u001b[39m\u001b[38;5;241m.\u001b[39mfc1(x))\n\u001b[1;32m     13\u001b[0m x \u001b[38;5;241m=\u001b[39m torch\u001b[38;5;241m.\u001b[39mrelu(\u001b[38;5;28mself\u001b[39m\u001b[38;5;241m.\u001b[39mfc2(x))\n\u001b[0;32m---> 14\u001b[0m x \u001b[38;5;241m=\u001b[39m torch\u001b[38;5;241m.\u001b[39mrelu(\u001b[38;5;28;43mself\u001b[39;49m\u001b[38;5;241;43m.\u001b[39;49m\u001b[43mfc3\u001b[49m\u001b[43m(\u001b[49m\u001b[43mx\u001b[49m\u001b[43m)\u001b[49m)\n\u001b[1;32m     15\u001b[0m x \u001b[38;5;241m=\u001b[39m torch\u001b[38;5;241m.\u001b[39mrelu(\u001b[38;5;28mself\u001b[39m\u001b[38;5;241m.\u001b[39mfc4(x))\n\u001b[1;32m     16\u001b[0m out1 \u001b[38;5;241m=\u001b[39m \u001b[38;5;28mself\u001b[39m\u001b[38;5;241m.\u001b[39mfc5(x)  \u001b[38;5;66;03m# Predicts shift status\u001b[39;00m\n",
      "File \u001b[0;32m/Library/Frameworks/Python.framework/Versions/3.12/lib/python3.12/site-packages/torch/nn/modules/module.py:1527\u001b[0m, in \u001b[0;36mModule._wrapped_call_impl\u001b[0;34m(self, *args, **kwargs)\u001b[0m\n\u001b[1;32m   1525\u001b[0m     \u001b[38;5;28;01mreturn\u001b[39;00m \u001b[38;5;28mself\u001b[39m\u001b[38;5;241m.\u001b[39m_compiled_call_impl(\u001b[38;5;241m*\u001b[39margs, \u001b[38;5;241m*\u001b[39m\u001b[38;5;241m*\u001b[39mkwargs)  \u001b[38;5;66;03m# type: ignore[misc]\u001b[39;00m\n\u001b[1;32m   1526\u001b[0m \u001b[38;5;28;01melse\u001b[39;00m:\n\u001b[0;32m-> 1527\u001b[0m     \u001b[38;5;28;01mreturn\u001b[39;00m \u001b[38;5;28;43mself\u001b[39;49m\u001b[38;5;241;43m.\u001b[39;49m\u001b[43m_call_impl\u001b[49m\u001b[43m(\u001b[49m\u001b[38;5;241;43m*\u001b[39;49m\u001b[43margs\u001b[49m\u001b[43m,\u001b[49m\u001b[43m \u001b[49m\u001b[38;5;241;43m*\u001b[39;49m\u001b[38;5;241;43m*\u001b[39;49m\u001b[43mkwargs\u001b[49m\u001b[43m)\u001b[49m\n",
      "File \u001b[0;32m/Library/Frameworks/Python.framework/Versions/3.12/lib/python3.12/site-packages/torch/nn/modules/module.py:1536\u001b[0m, in \u001b[0;36mModule._call_impl\u001b[0;34m(self, *args, **kwargs)\u001b[0m\n\u001b[1;32m   1531\u001b[0m \u001b[38;5;66;03m# If we don't have any hooks, we want to skip the rest of the logic in\u001b[39;00m\n\u001b[1;32m   1532\u001b[0m \u001b[38;5;66;03m# this function, and just call forward.\u001b[39;00m\n\u001b[1;32m   1533\u001b[0m \u001b[38;5;28;01mif\u001b[39;00m \u001b[38;5;129;01mnot\u001b[39;00m (\u001b[38;5;28mself\u001b[39m\u001b[38;5;241m.\u001b[39m_backward_hooks \u001b[38;5;129;01mor\u001b[39;00m \u001b[38;5;28mself\u001b[39m\u001b[38;5;241m.\u001b[39m_backward_pre_hooks \u001b[38;5;129;01mor\u001b[39;00m \u001b[38;5;28mself\u001b[39m\u001b[38;5;241m.\u001b[39m_forward_hooks \u001b[38;5;129;01mor\u001b[39;00m \u001b[38;5;28mself\u001b[39m\u001b[38;5;241m.\u001b[39m_forward_pre_hooks\n\u001b[1;32m   1534\u001b[0m         \u001b[38;5;129;01mor\u001b[39;00m _global_backward_pre_hooks \u001b[38;5;129;01mor\u001b[39;00m _global_backward_hooks\n\u001b[1;32m   1535\u001b[0m         \u001b[38;5;129;01mor\u001b[39;00m _global_forward_hooks \u001b[38;5;129;01mor\u001b[39;00m _global_forward_pre_hooks):\n\u001b[0;32m-> 1536\u001b[0m     \u001b[38;5;28;01mreturn\u001b[39;00m \u001b[43mforward_call\u001b[49m\u001b[43m(\u001b[49m\u001b[38;5;241;43m*\u001b[39;49m\u001b[43margs\u001b[49m\u001b[43m,\u001b[49m\u001b[43m \u001b[49m\u001b[38;5;241;43m*\u001b[39;49m\u001b[38;5;241;43m*\u001b[39;49m\u001b[43mkwargs\u001b[49m\u001b[43m)\u001b[49m\n\u001b[1;32m   1538\u001b[0m \u001b[38;5;28;01mtry\u001b[39;00m:\n\u001b[1;32m   1539\u001b[0m     result \u001b[38;5;241m=\u001b[39m \u001b[38;5;28;01mNone\u001b[39;00m\n",
      "File \u001b[0;32m/Library/Frameworks/Python.framework/Versions/3.12/lib/python3.12/site-packages/torch/nn/modules/linear.py:116\u001b[0m, in \u001b[0;36mLinear.forward\u001b[0;34m(self, input)\u001b[0m\n\u001b[1;32m    115\u001b[0m \u001b[38;5;28;01mdef\u001b[39;00m \u001b[38;5;21mforward\u001b[39m(\u001b[38;5;28mself\u001b[39m, \u001b[38;5;28minput\u001b[39m: Tensor) \u001b[38;5;241m-\u001b[39m\u001b[38;5;241m>\u001b[39m Tensor:\n\u001b[0;32m--> 116\u001b[0m     \u001b[38;5;28;01mreturn\u001b[39;00m \u001b[43mF\u001b[49m\u001b[38;5;241;43m.\u001b[39;49m\u001b[43mlinear\u001b[49m\u001b[43m(\u001b[49m\u001b[38;5;28;43minput\u001b[39;49m\u001b[43m,\u001b[49m\u001b[43m \u001b[49m\u001b[38;5;28;43mself\u001b[39;49m\u001b[38;5;241;43m.\u001b[39;49m\u001b[43mweight\u001b[49m\u001b[43m,\u001b[49m\u001b[43m \u001b[49m\u001b[38;5;28;43mself\u001b[39;49m\u001b[38;5;241;43m.\u001b[39;49m\u001b[43mbias\u001b[49m\u001b[43m)\u001b[49m\n",
      "\u001b[0;31mKeyboardInterrupt\u001b[0m: "
     ]
    }
   ],
   "source": [
    "from tqdm.auto import tqdm\n",
    "\n",
    "epochs = 2000\n",
    "\n",
    "for epoch in tqdm(range(1, epochs+1)):\n",
    "    model.train()\n",
    "    \n",
    "    shift_logit, jump_logit = model(Xtrain)\n",
    "    \n",
    "    shift_prob = torch.softmax(shift_logit, dim=1)\n",
    "    shift_pred = torch.argmax(shift_prob, dim=1)\n",
    "    shift_loss = criterion1(shift_logit, yTrain[:, 0])\n",
    "    shift_acc = accuracy_fn(y_true=yTrain[:, 0], y_pred=shift_pred)\n",
    "\n",
    "    jump_prob = torch.sigmoid(jump_logit)\n",
    "    jump_pred = torch.round(jump_prob).squeeze(dim=1)\n",
    "    jump_loss = criterion2(jump_logit.squeeze(dim=1), yTrain[:, 1])\n",
    "    jump_acc = accuracy_fn(y_true=yTrain[:, 1], y_pred=jump_pred)\n",
    "\n",
    "    optimizer.zero_grad()\n",
    "    shift_loss.backward(retain_graph=True)\n",
    "    jump_loss.backward()\n",
    "    optimizer.step()\n",
    "    \n",
    "    model.eval()\n",
    "    with torch.no_grad():\n",
    "        shift_test_logit, jump_test_logit = model(Xtest)\n",
    "        \n",
    "        shift_test_prob = torch.softmax(shift_test_logit, dim=1)\n",
    "        shift_test_pred = torch.argmax(shift_test_prob, dim=1)\n",
    "        shift_test_loss = criterion1(shift_test_logit, yTest[:, 0])\n",
    "        shift_test_acc = accuracy_fn(y_true=yTest[:, 0], y_pred=shift_test_pred)\n",
    "\n",
    "        jump_test_prob = torch.sigmoid(jump_test_logit)\n",
    "        jump_test_pred = torch.round(jump_test_prob).squeeze(dim=1)\n",
    "        jump_test_loss = criterion2(jump_test_logit.squeeze(dim=1), yTest[:, 1])\n",
    "        jump_test_acc = accuracy_fn(y_true=yTest[:, 1], y_pred=jump_test_pred)\n",
    "\n",
    "    if epoch % 50 == 0:\n",
    "        print(f\"Epoch: {epoch}\\nTrain shift loss: {shift_loss.item():.4f} | Train jump loss: {jump_loss.item():.4f} | Train shift acc: {shift_acc:.2f}% | Train jump acc: {jump_acc:.2f}%\\nTest shift loss: {shift_test_loss.item():.4f} | Test jump loss: {jump_test_loss.item():.4f} | Test shift acc: {shift_test_acc:.2f}% | Test jump acc: {jump_test_acc:.2f}%\")\n",
    "    if epoch == epochs+1:\n",
    "        if shift_test_loss > 0.6 or jump_test_loss > 0.6:\n",
    "            print('WTF IS THIS SHIT MAN UR DATA SUCKS')\n"
   ]
  },
  {
   "cell_type": "code",
   "execution_count": 149,
   "metadata": {},
   "outputs": [],
   "source": [
    "model.eval()\n",
    "with torch.no_grad():\n",
    "    shift_logit, jump_logit = model(torch.Tensor([[0.27, 0.96, 0.0, 0.0, 1.0]]).to(device))\n",
    "    shift_prob = torch.softmax(shift_logit, dim=1)\n",
    "    shift_pred = torch.argmax(shift_prob, dim=1)\n",
    "    jump_prob = torch.sigmoid(jump_logit)\n",
    "    jump_pred = torch.round(jump_prob).squeeze(dim=1)"
   ]
  },
  {
   "cell_type": "code",
   "execution_count": 150,
   "metadata": {},
   "outputs": [
    {
     "data": {
      "text/plain": [
       "(tensor([0], device='mps:0'), tensor([1.], device='mps:0'))"
      ]
     },
     "execution_count": 150,
     "metadata": {},
     "output_type": "execute_result"
    }
   ],
   "source": [
    "shift_pred, jump_pred"
   ]
  },
  {
   "cell_type": "code",
   "execution_count": 151,
   "metadata": {},
   "outputs": [
    {
     "name": "stdout",
     "output_type": "stream",
     "text": [
      "ture\n"
     ]
    },
    {
     "data": {
      "text/plain": [
       "(array([0]), None)"
      ]
     },
     "execution_count": 151,
     "metadata": {},
     "output_type": "execute_result"
    }
   ],
   "source": [
    "shift_pred.cpu().numpy(), print('ture' if jump_pred == 1 else '')"
   ]
  },
  {
   "cell_type": "code",
   "execution_count": 28,
   "metadata": {},
   "outputs": [
    {
     "name": "stdout",
     "output_type": "stream",
     "text": [
      "Saving model to MODELS/first_normal_model.pth\n"
     ]
    }
   ],
   "source": [
    "from pathlib import Path\n",
    "\n",
    "PATH = Path('MODELS')\n",
    "PATH.mkdir(exist_ok=True, parents=True)\n",
    "\n",
    "MODEL_PATH = PATH / 'first_normal_model.pth'\n",
    "print(f\"Saving model to {MODEL_PATH}\")\n",
    "torch.save(model.state_dict(), MODEL_PATH)"
   ]
  },
  {
   "cell_type": "code",
   "execution_count": 29,
   "metadata": {},
   "outputs": [
    {
     "data": {
      "text/html": [
       "<div>\n",
       "<style scoped>\n",
       "    .dataframe tbody tr th:only-of-type {\n",
       "        vertical-align: middle;\n",
       "    }\n",
       "\n",
       "    .dataframe tbody tr th {\n",
       "        vertical-align: top;\n",
       "    }\n",
       "\n",
       "    .dataframe thead th {\n",
       "        text-align: right;\n",
       "    }\n",
       "</style>\n",
       "<table border=\"1\" class=\"dataframe\">\n",
       "  <thead>\n",
       "    <tr style=\"text-align: right;\">\n",
       "      <th></th>\n",
       "      <th>rpm/max</th>\n",
       "      <th>gas</th>\n",
       "      <th>brake</th>\n",
       "      <th>in_fitst_gear</th>\n",
       "      <th>in_overdrive</th>\n",
       "      <th>shift_status</th>\n",
       "      <th>jump_gears</th>\n",
       "    </tr>\n",
       "  </thead>\n",
       "  <tbody>\n",
       "    <tr>\n",
       "      <th>3471</th>\n",
       "      <td>0.212277</td>\n",
       "      <td>0.969640</td>\n",
       "      <td>0.0</td>\n",
       "      <td>0.0</td>\n",
       "      <td>1</td>\n",
       "      <td>0.0</td>\n",
       "      <td>1</td>\n",
       "    </tr>\n",
       "    <tr>\n",
       "      <th>3472</th>\n",
       "      <td>0.263662</td>\n",
       "      <td>0.983250</td>\n",
       "      <td>0.0</td>\n",
       "      <td>0.0</td>\n",
       "      <td>1</td>\n",
       "      <td>0.0</td>\n",
       "      <td>1</td>\n",
       "    </tr>\n",
       "    <tr>\n",
       "      <th>3473</th>\n",
       "      <td>0.329544</td>\n",
       "      <td>0.800316</td>\n",
       "      <td>0.0</td>\n",
       "      <td>0.0</td>\n",
       "      <td>1</td>\n",
       "      <td>0.0</td>\n",
       "      <td>1</td>\n",
       "    </tr>\n",
       "    <tr>\n",
       "      <th>3474</th>\n",
       "      <td>0.197189</td>\n",
       "      <td>0.790420</td>\n",
       "      <td>0.0</td>\n",
       "      <td>0.0</td>\n",
       "      <td>1</td>\n",
       "      <td>0.0</td>\n",
       "      <td>1</td>\n",
       "    </tr>\n",
       "    <tr>\n",
       "      <th>3475</th>\n",
       "      <td>0.187836</td>\n",
       "      <td>0.906564</td>\n",
       "      <td>0.0</td>\n",
       "      <td>0.0</td>\n",
       "      <td>1</td>\n",
       "      <td>0.0</td>\n",
       "      <td>1</td>\n",
       "    </tr>\n",
       "    <tr>\n",
       "      <th>3476</th>\n",
       "      <td>0.335011</td>\n",
       "      <td>0.786484</td>\n",
       "      <td>0.0</td>\n",
       "      <td>0.0</td>\n",
       "      <td>1</td>\n",
       "      <td>0.0</td>\n",
       "      <td>1</td>\n",
       "    </tr>\n",
       "    <tr>\n",
       "      <th>3477</th>\n",
       "      <td>0.305478</td>\n",
       "      <td>0.820305</td>\n",
       "      <td>0.0</td>\n",
       "      <td>0.0</td>\n",
       "      <td>1</td>\n",
       "      <td>0.0</td>\n",
       "      <td>1</td>\n",
       "    </tr>\n",
       "    <tr>\n",
       "      <th>3478</th>\n",
       "      <td>0.219644</td>\n",
       "      <td>0.942082</td>\n",
       "      <td>0.0</td>\n",
       "      <td>0.0</td>\n",
       "      <td>1</td>\n",
       "      <td>0.0</td>\n",
       "      <td>1</td>\n",
       "    </tr>\n",
       "    <tr>\n",
       "      <th>3479</th>\n",
       "      <td>0.216691</td>\n",
       "      <td>0.933313</td>\n",
       "      <td>0.0</td>\n",
       "      <td>0.0</td>\n",
       "      <td>1</td>\n",
       "      <td>0.0</td>\n",
       "      <td>1</td>\n",
       "    </tr>\n",
       "    <tr>\n",
       "      <th>3480</th>\n",
       "      <td>0.338228</td>\n",
       "      <td>0.951081</td>\n",
       "      <td>0.0</td>\n",
       "      <td>0.0</td>\n",
       "      <td>1</td>\n",
       "      <td>0.0</td>\n",
       "      <td>1</td>\n",
       "    </tr>\n",
       "    <tr>\n",
       "      <th>3481</th>\n",
       "      <td>0.255682</td>\n",
       "      <td>0.920951</td>\n",
       "      <td>0.0</td>\n",
       "      <td>0.0</td>\n",
       "      <td>1</td>\n",
       "      <td>0.0</td>\n",
       "      <td>1</td>\n",
       "    </tr>\n",
       "    <tr>\n",
       "      <th>3482</th>\n",
       "      <td>0.169854</td>\n",
       "      <td>0.838877</td>\n",
       "      <td>0.0</td>\n",
       "      <td>0.0</td>\n",
       "      <td>1</td>\n",
       "      <td>0.0</td>\n",
       "      <td>1</td>\n",
       "    </tr>\n",
       "    <tr>\n",
       "      <th>3483</th>\n",
       "      <td>0.219741</td>\n",
       "      <td>0.958003</td>\n",
       "      <td>0.0</td>\n",
       "      <td>0.0</td>\n",
       "      <td>1</td>\n",
       "      <td>0.0</td>\n",
       "      <td>1</td>\n",
       "    </tr>\n",
       "    <tr>\n",
       "      <th>3484</th>\n",
       "      <td>0.284163</td>\n",
       "      <td>0.898452</td>\n",
       "      <td>0.0</td>\n",
       "      <td>0.0</td>\n",
       "      <td>1</td>\n",
       "      <td>0.0</td>\n",
       "      <td>1</td>\n",
       "    </tr>\n",
       "    <tr>\n",
       "      <th>3485</th>\n",
       "      <td>0.232021</td>\n",
       "      <td>0.883774</td>\n",
       "      <td>0.0</td>\n",
       "      <td>0.0</td>\n",
       "      <td>1</td>\n",
       "      <td>0.0</td>\n",
       "      <td>1</td>\n",
       "    </tr>\n",
       "    <tr>\n",
       "      <th>3486</th>\n",
       "      <td>0.258693</td>\n",
       "      <td>0.822217</td>\n",
       "      <td>0.0</td>\n",
       "      <td>0.0</td>\n",
       "      <td>1</td>\n",
       "      <td>0.0</td>\n",
       "      <td>1</td>\n",
       "    </tr>\n",
       "    <tr>\n",
       "      <th>3487</th>\n",
       "      <td>0.234781</td>\n",
       "      <td>0.849183</td>\n",
       "      <td>0.0</td>\n",
       "      <td>0.0</td>\n",
       "      <td>1</td>\n",
       "      <td>0.0</td>\n",
       "      <td>1</td>\n",
       "    </tr>\n",
       "    <tr>\n",
       "      <th>3488</th>\n",
       "      <td>0.305080</td>\n",
       "      <td>0.947161</td>\n",
       "      <td>0.0</td>\n",
       "      <td>0.0</td>\n",
       "      <td>1</td>\n",
       "      <td>0.0</td>\n",
       "      <td>1</td>\n",
       "    </tr>\n",
       "    <tr>\n",
       "      <th>3489</th>\n",
       "      <td>0.338749</td>\n",
       "      <td>0.881947</td>\n",
       "      <td>0.0</td>\n",
       "      <td>0.0</td>\n",
       "      <td>1</td>\n",
       "      <td>0.0</td>\n",
       "      <td>1</td>\n",
       "    </tr>\n",
       "    <tr>\n",
       "      <th>3490</th>\n",
       "      <td>0.295396</td>\n",
       "      <td>0.853120</td>\n",
       "      <td>0.0</td>\n",
       "      <td>0.0</td>\n",
       "      <td>1</td>\n",
       "      <td>0.0</td>\n",
       "      <td>1</td>\n",
       "    </tr>\n",
       "    <tr>\n",
       "      <th>3491</th>\n",
       "      <td>0.328324</td>\n",
       "      <td>0.791253</td>\n",
       "      <td>0.0</td>\n",
       "      <td>0.0</td>\n",
       "      <td>1</td>\n",
       "      <td>0.0</td>\n",
       "      <td>1</td>\n",
       "    </tr>\n",
       "    <tr>\n",
       "      <th>3492</th>\n",
       "      <td>0.357823</td>\n",
       "      <td>0.887462</td>\n",
       "      <td>0.0</td>\n",
       "      <td>0.0</td>\n",
       "      <td>1</td>\n",
       "      <td>0.0</td>\n",
       "      <td>1</td>\n",
       "    </tr>\n",
       "    <tr>\n",
       "      <th>3493</th>\n",
       "      <td>0.288922</td>\n",
       "      <td>0.801665</td>\n",
       "      <td>0.0</td>\n",
       "      <td>0.0</td>\n",
       "      <td>1</td>\n",
       "      <td>0.0</td>\n",
       "      <td>1</td>\n",
       "    </tr>\n",
       "    <tr>\n",
       "      <th>3494</th>\n",
       "      <td>0.161861</td>\n",
       "      <td>0.828433</td>\n",
       "      <td>0.0</td>\n",
       "      <td>0.0</td>\n",
       "      <td>1</td>\n",
       "      <td>0.0</td>\n",
       "      <td>1</td>\n",
       "    </tr>\n",
       "    <tr>\n",
       "      <th>3495</th>\n",
       "      <td>0.252661</td>\n",
       "      <td>0.758925</td>\n",
       "      <td>0.0</td>\n",
       "      <td>0.0</td>\n",
       "      <td>1</td>\n",
       "      <td>0.0</td>\n",
       "      <td>1</td>\n",
       "    </tr>\n",
       "    <tr>\n",
       "      <th>3496</th>\n",
       "      <td>0.188790</td>\n",
       "      <td>0.823884</td>\n",
       "      <td>0.0</td>\n",
       "      <td>0.0</td>\n",
       "      <td>1</td>\n",
       "      <td>0.0</td>\n",
       "      <td>1</td>\n",
       "    </tr>\n",
       "    <tr>\n",
       "      <th>3497</th>\n",
       "      <td>0.217789</td>\n",
       "      <td>0.782949</td>\n",
       "      <td>0.0</td>\n",
       "      <td>0.0</td>\n",
       "      <td>1</td>\n",
       "      <td>0.0</td>\n",
       "      <td>1</td>\n",
       "    </tr>\n",
       "    <tr>\n",
       "      <th>3498</th>\n",
       "      <td>0.365227</td>\n",
       "      <td>0.861438</td>\n",
       "      <td>0.0</td>\n",
       "      <td>0.0</td>\n",
       "      <td>1</td>\n",
       "      <td>0.0</td>\n",
       "      <td>1</td>\n",
       "    </tr>\n",
       "    <tr>\n",
       "      <th>3499</th>\n",
       "      <td>0.342704</td>\n",
       "      <td>0.798636</td>\n",
       "      <td>0.0</td>\n",
       "      <td>0.0</td>\n",
       "      <td>1</td>\n",
       "      <td>0.0</td>\n",
       "      <td>1</td>\n",
       "    </tr>\n",
       "    <tr>\n",
       "      <th>3500</th>\n",
       "      <td>0.226314</td>\n",
       "      <td>0.834541</td>\n",
       "      <td>0.0</td>\n",
       "      <td>0.0</td>\n",
       "      <td>1</td>\n",
       "      <td>0.0</td>\n",
       "      <td>1</td>\n",
       "    </tr>\n",
       "  </tbody>\n",
       "</table>\n",
       "</div>"
      ],
      "text/plain": [
       "       rpm/max       gas  brake  in_fitst_gear  in_overdrive  shift_status  \\\n",
       "3471  0.212277  0.969640    0.0            0.0             1           0.0   \n",
       "3472  0.263662  0.983250    0.0            0.0             1           0.0   \n",
       "3473  0.329544  0.800316    0.0            0.0             1           0.0   \n",
       "3474  0.197189  0.790420    0.0            0.0             1           0.0   \n",
       "3475  0.187836  0.906564    0.0            0.0             1           0.0   \n",
       "3476  0.335011  0.786484    0.0            0.0             1           0.0   \n",
       "3477  0.305478  0.820305    0.0            0.0             1           0.0   \n",
       "3478  0.219644  0.942082    0.0            0.0             1           0.0   \n",
       "3479  0.216691  0.933313    0.0            0.0             1           0.0   \n",
       "3480  0.338228  0.951081    0.0            0.0             1           0.0   \n",
       "3481  0.255682  0.920951    0.0            0.0             1           0.0   \n",
       "3482  0.169854  0.838877    0.0            0.0             1           0.0   \n",
       "3483  0.219741  0.958003    0.0            0.0             1           0.0   \n",
       "3484  0.284163  0.898452    0.0            0.0             1           0.0   \n",
       "3485  0.232021  0.883774    0.0            0.0             1           0.0   \n",
       "3486  0.258693  0.822217    0.0            0.0             1           0.0   \n",
       "3487  0.234781  0.849183    0.0            0.0             1           0.0   \n",
       "3488  0.305080  0.947161    0.0            0.0             1           0.0   \n",
       "3489  0.338749  0.881947    0.0            0.0             1           0.0   \n",
       "3490  0.295396  0.853120    0.0            0.0             1           0.0   \n",
       "3491  0.328324  0.791253    0.0            0.0             1           0.0   \n",
       "3492  0.357823  0.887462    0.0            0.0             1           0.0   \n",
       "3493  0.288922  0.801665    0.0            0.0             1           0.0   \n",
       "3494  0.161861  0.828433    0.0            0.0             1           0.0   \n",
       "3495  0.252661  0.758925    0.0            0.0             1           0.0   \n",
       "3496  0.188790  0.823884    0.0            0.0             1           0.0   \n",
       "3497  0.217789  0.782949    0.0            0.0             1           0.0   \n",
       "3498  0.365227  0.861438    0.0            0.0             1           0.0   \n",
       "3499  0.342704  0.798636    0.0            0.0             1           0.0   \n",
       "3500  0.226314  0.834541    0.0            0.0             1           0.0   \n",
       "\n",
       "      jump_gears  \n",
       "3471           1  \n",
       "3472           1  \n",
       "3473           1  \n",
       "3474           1  \n",
       "3475           1  \n",
       "3476           1  \n",
       "3477           1  \n",
       "3478           1  \n",
       "3479           1  \n",
       "3480           1  \n",
       "3481           1  \n",
       "3482           1  \n",
       "3483           1  \n",
       "3484           1  \n",
       "3485           1  \n",
       "3486           1  \n",
       "3487           1  \n",
       "3488           1  \n",
       "3489           1  \n",
       "3490           1  \n",
       "3491           1  \n",
       "3492           1  \n",
       "3493           1  \n",
       "3494           1  \n",
       "3495           1  \n",
       "3496           1  \n",
       "3497           1  \n",
       "3498           1  \n",
       "3499           1  \n",
       "3500           1  "
      ]
     },
     "execution_count": 29,
     "metadata": {},
     "output_type": "execute_result"
    }
   ],
   "source": [
    "df = pd.read_csv('data/Normal/data.csv')\n",
    "df.tail(30)"
   ]
  },
  {
   "cell_type": "code",
   "execution_count": 32,
   "metadata": {},
   "outputs": [],
   "source": [
    "class Net(nn.Module):\n",
    "    def __init__(self):\n",
    "        super(Net, self).__init__()\n",
    "        self.fc1 = nn.Linear(5, 128)\n",
    "        self.fc2 = nn.Linear(128, 128)\n",
    "        self.fc3 = nn.Linear(128, 128)\n",
    "        self.fc4 = nn.Linear(128, 128)\n",
    "        self.fc5 = nn.Linear(128, 3)  # Output layer for shift status\n",
    "        self.fc6 = nn.Linear(128, 2)  # Output layer for jump gears or not\n",
    "\n",
    "    def forward(self, x):\n",
    "        x = torch.relu(self.fc1(x))\n",
    "        x = torch.relu(self.fc2(x))\n",
    "        x = torch.relu(self.fc3(x))\n",
    "        x = torch.relu(self.fc4(x))\n",
    "        out1 = self.fc5(x)  # Predicts shift status\n",
    "        out2 = self.fc5(x)  # Predicts whether to jump gears or not\n",
    "        return out1, out2"
   ]
  },
  {
   "cell_type": "code",
   "execution_count": 36,
   "metadata": {},
   "outputs": [
    {
     "data": {
      "text/plain": [
       "<All keys matched successfully>"
      ]
     },
     "execution_count": 36,
     "metadata": {},
     "output_type": "execute_result"
    }
   ],
   "source": [
    "load_model = Net()\n",
    "load_model.load_state_dict(torch.load(MODEL_PATH, map_location=torch.device('cpu')))"
   ]
  },
  {
   "cell_type": "code",
   "execution_count": 41,
   "metadata": {},
   "outputs": [],
   "source": [
    "load_model.eval()\n",
    "with torch.no_grad():\n",
    "    shift_logit, jump_logit = load_model(torch.Tensor([[0.22, 0.95, 0.0, 0.0, 1.0]]))\n",
    "    shift_prob = torch.sigmoid(shift_logit)\n",
    "    shift_pred = torch.argmax(shift_prob, dim=1)\n",
    "    jump_prob = torch.sigmoid(jump_logit)\n",
    "    jump_pred = torch.argmax(jump_prob, dim=1)"
   ]
  },
  {
   "cell_type": "code",
   "execution_count": 42,
   "metadata": {},
   "outputs": [
    {
     "name": "stdout",
     "output_type": "stream",
     "text": [
      "so sad\n"
     ]
    },
    {
     "data": {
      "text/plain": [
       "(tensor([0]), None)"
      ]
     },
     "execution_count": 42,
     "metadata": {},
     "output_type": "execute_result"
    }
   ],
   "source": [
    "shift_pred, print(6 if jump_pred == 1 else \"so sad\")"
   ]
  },
  {
   "cell_type": "markdown",
   "metadata": {},
   "source": [
    "seperate shift and jump gear to two models"
   ]
  }
 ],
 "metadata": {
  "kernelspec": {
   "display_name": "Python 3",
   "language": "python",
   "name": "python3"
  },
  "language_info": {
   "codemirror_mode": {
    "name": "ipython",
    "version": 3
   },
   "file_extension": ".py",
   "mimetype": "text/x-python",
   "name": "python",
   "nbconvert_exporter": "python",
   "pygments_lexer": "ipython3",
   "version": "3.12.2"
  }
 },
 "nbformat": 4,
 "nbformat_minor": 2
}
